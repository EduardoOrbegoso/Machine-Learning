{
 "cells": [
  {
   "cell_type": "code",
   "execution_count": 2,
   "metadata": {},
   "outputs": [],
   "source": [
    "import pandas as pd\n",
    "import numpy as np\n",
    "import matplotlib.pyplot as plt"
   ]
  },
  {
   "cell_type": "code",
   "execution_count": 3,
   "metadata": {},
   "outputs": [
    {
     "data": {
      "text/html": [
       "<div>\n",
       "<style scoped>\n",
       "    .dataframe tbody tr th:only-of-type {\n",
       "        vertical-align: middle;\n",
       "    }\n",
       "\n",
       "    .dataframe tbody tr th {\n",
       "        vertical-align: top;\n",
       "    }\n",
       "\n",
       "    .dataframe thead th {\n",
       "        text-align: right;\n",
       "    }\n",
       "</style>\n",
       "<table border=\"1\" class=\"dataframe\">\n",
       "  <thead>\n",
       "    <tr style=\"text-align: right;\">\n",
       "      <th></th>\n",
       "      <th>Peso</th>\n",
       "      <th>Huevos</th>\n",
       "    </tr>\n",
       "  </thead>\n",
       "  <tbody>\n",
       "    <tr>\n",
       "      <th>0</th>\n",
       "      <td>5.38</td>\n",
       "      <td>29</td>\n",
       "    </tr>\n",
       "    <tr>\n",
       "      <th>1</th>\n",
       "      <td>7.36</td>\n",
       "      <td>23</td>\n",
       "    </tr>\n",
       "    <tr>\n",
       "      <th>2</th>\n",
       "      <td>6.13</td>\n",
       "      <td>22</td>\n",
       "    </tr>\n",
       "    <tr>\n",
       "      <th>3</th>\n",
       "      <td>4.75</td>\n",
       "      <td>20</td>\n",
       "    </tr>\n",
       "    <tr>\n",
       "      <th>4</th>\n",
       "      <td>8.10</td>\n",
       "      <td>25</td>\n",
       "    </tr>\n",
       "    <tr>\n",
       "      <th>5</th>\n",
       "      <td>8.62</td>\n",
       "      <td>25</td>\n",
       "    </tr>\n",
       "    <tr>\n",
       "      <th>6</th>\n",
       "      <td>6.30</td>\n",
       "      <td>17</td>\n",
       "    </tr>\n",
       "    <tr>\n",
       "      <th>7</th>\n",
       "      <td>7.44</td>\n",
       "      <td>24</td>\n",
       "    </tr>\n",
       "    <tr>\n",
       "      <th>8</th>\n",
       "      <td>7.26</td>\n",
       "      <td>20</td>\n",
       "    </tr>\n",
       "    <tr>\n",
       "      <th>9</th>\n",
       "      <td>7.17</td>\n",
       "      <td>27</td>\n",
       "    </tr>\n",
       "    <tr>\n",
       "      <th>10</th>\n",
       "      <td>7.78</td>\n",
       "      <td>24</td>\n",
       "    </tr>\n",
       "    <tr>\n",
       "      <th>11</th>\n",
       "      <td>6.23</td>\n",
       "      <td>21</td>\n",
       "    </tr>\n",
       "    <tr>\n",
       "      <th>12</th>\n",
       "      <td>5.42</td>\n",
       "      <td>22</td>\n",
       "    </tr>\n",
       "    <tr>\n",
       "      <th>13</th>\n",
       "      <td>7.87</td>\n",
       "      <td>22</td>\n",
       "    </tr>\n",
       "    <tr>\n",
       "      <th>14</th>\n",
       "      <td>5.25</td>\n",
       "      <td>23</td>\n",
       "    </tr>\n",
       "    <tr>\n",
       "      <th>15</th>\n",
       "      <td>7.37</td>\n",
       "      <td>35</td>\n",
       "    </tr>\n",
       "    <tr>\n",
       "      <th>16</th>\n",
       "      <td>8.01</td>\n",
       "      <td>27</td>\n",
       "    </tr>\n",
       "    <tr>\n",
       "      <th>17</th>\n",
       "      <td>4.92</td>\n",
       "      <td>23</td>\n",
       "    </tr>\n",
       "    <tr>\n",
       "      <th>18</th>\n",
       "      <td>7.03</td>\n",
       "      <td>25</td>\n",
       "    </tr>\n",
       "    <tr>\n",
       "      <th>19</th>\n",
       "      <td>6.45</td>\n",
       "      <td>24</td>\n",
       "    </tr>\n",
       "    <tr>\n",
       "      <th>20</th>\n",
       "      <td>5.06</td>\n",
       "      <td>19</td>\n",
       "    </tr>\n",
       "    <tr>\n",
       "      <th>21</th>\n",
       "      <td>6.72</td>\n",
       "      <td>21</td>\n",
       "    </tr>\n",
       "    <tr>\n",
       "      <th>22</th>\n",
       "      <td>7.00</td>\n",
       "      <td>20</td>\n",
       "    </tr>\n",
       "  </tbody>\n",
       "</table>\n",
       "</div>"
      ],
      "text/plain": [
       "    Peso  Huevos\n",
       "0   5.38      29\n",
       "1   7.36      23\n",
       "2   6.13      22\n",
       "3   4.75      20\n",
       "4   8.10      25\n",
       "5   8.62      25\n",
       "6   6.30      17\n",
       "7   7.44      24\n",
       "8   7.26      20\n",
       "9   7.17      27\n",
       "10  7.78      24\n",
       "11  6.23      21\n",
       "12  5.42      22\n",
       "13  7.87      22\n",
       "14  5.25      23\n",
       "15  7.37      35\n",
       "16  8.01      27\n",
       "17  4.92      23\n",
       "18  7.03      25\n",
       "19  6.45      24\n",
       "20  5.06      19\n",
       "21  6.72      21\n",
       "22  7.00      20"
      ]
     },
     "execution_count": 3,
     "metadata": {},
     "output_type": "execute_result"
    }
   ],
   "source": [
    "datos = pd.read_csv('./crustaceo_huevos.csv',sep=';')\n",
    "nuevos_nombres = {'Weight, mg': 'Peso', 'Eggs': 'Huevos'}\n",
    "datos = datos.rename(columns=nuevos_nombres)\n",
    "datos"
   ]
  },
  {
   "cell_type": "code",
   "execution_count": 4,
   "metadata": {},
   "outputs": [
    {
     "data": {
      "text/plain": [
       "array([[ 5.38, 29.  ],\n",
       "       [ 7.36, 23.  ],\n",
       "       [ 6.13, 22.  ],\n",
       "       [ 4.75, 20.  ],\n",
       "       [ 8.1 , 25.  ],\n",
       "       [ 8.62, 25.  ],\n",
       "       [ 6.3 , 17.  ],\n",
       "       [ 7.44, 24.  ],\n",
       "       [ 7.26, 20.  ],\n",
       "       [ 7.17, 27.  ],\n",
       "       [ 7.78, 24.  ],\n",
       "       [ 6.23, 21.  ],\n",
       "       [ 5.42, 22.  ],\n",
       "       [ 7.87, 22.  ],\n",
       "       [ 5.25, 23.  ],\n",
       "       [ 7.37, 35.  ],\n",
       "       [ 8.01, 27.  ],\n",
       "       [ 4.92, 23.  ],\n",
       "       [ 7.03, 25.  ],\n",
       "       [ 6.45, 24.  ],\n",
       "       [ 5.06, 19.  ],\n",
       "       [ 6.72, 21.  ],\n",
       "       [ 7.  , 20.  ]])"
      ]
     },
     "execution_count": 4,
     "metadata": {},
     "output_type": "execute_result"
    }
   ],
   "source": [
    "datosNP = datos.to_numpy()\n",
    "datosNP"
   ]
  },
  {
   "cell_type": "code",
   "execution_count": 8,
   "metadata": {},
   "outputs": [
    {
     "data": {
      "image/png": "[encoded data removed]",
      "text/plain": [
       "<Figure size 640x480 with 1 Axes>"
      ]
     },
     "metadata": {},
     "output_type": "display_data"
    }
   ],
   "source": [
    "plt.plot(datosNP[:,0],datosNP[:,1],'.',color ='red');"
   ]
  },
  {
   "cell_type": "code",
   "execution_count": 10,
   "metadata": {},
   "outputs": [
    {
     "name": "stdout",
     "output_type": "stream",
     "text": [
      " \n",
      "1.077 x + 16.2\n"
     ]
    },
    {
     "data": {
      "image/png": "[encoded data removed]",
      "text/plain": [
       "<Figure size 640x480 with 1 Axes>"
      ]
     },
     "metadata": {},
     "output_type": "display_data"
    }
   ],
   "source": [
    "xi = datosNP[:,0]\n",
    "yi = datosNP[:,1]\n",
    "c = np.polyfit(xi,yi,1)\n",
    "p = np.poly1d(c)\n",
    "print(p)\n",
    "\n",
    "x = np.linspace(4,10,100)\n",
    "plt.plot(x,p(x))\n",
    "plt.plot(xi,yi,'.');"
   ]
  },
  {
   "cell_type": "code",
   "execution_count": 14,
   "metadata": {},
   "outputs": [
    {
     "name": "stdout",
     "output_type": "stream",
     "text": [
      "yRaya =  23.391304347826086\n",
      "ySombrero:  [21.99266681 24.12432522 22.80011318 21.31441187 24.92100564 25.48083512\n",
      " 22.98313436 24.21045284 24.01666571 23.91977214 24.57649519 22.9077727\n",
      " 22.03573062 24.67338875 21.85270944 24.13509118 24.82411207 21.49743304\n",
      " 23.76904882 23.14462363 21.64815636 23.43530432 23.73675097]\n",
      "R2 =  0.10340091727389869\n"
     ]
    }
   ],
   "source": [
    "yRaya = sum(yi)/len(yi)\n",
    "print('yRaya = ',yRaya)\n",
    "ySombrero = p(xi)\n",
    "print('ySombrero: ',ySombrero)\n",
    "R2 = np.linalg.norm(ySombrero-yRaya,2)**2/np.linalg.norm(yi-yRaya,2)**2\n",
    "print('R2 = ',R2)"
   ]
  }
 ],
 "metadata": {
  "kernelspec": {
   "display_name": "env",
   "language": "python",
   "name": "python3"
  },
  "language_info": {
   "codemirror_mode": {
    "name": "ipython",
    "version": 3
   },
   "file_extension": ".py",
   "mimetype": "text/x-python",
   "name": "python",
   "nbconvert_exporter": "python",
   "pygments_lexer": "ipython3",
   "version": "3.11.3"
  }
 },
 "nbformat": 4,
 "nbformat_minor": 2
}
